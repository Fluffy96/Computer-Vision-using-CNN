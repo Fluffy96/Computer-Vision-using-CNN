{
  "nbformat": 4,
  "nbformat_minor": 0,
  "metadata": {
    "colab": {
      "provenance": [],
      "authorship_tag": "ABX9TyO+ygRNytKQk60C+JroEHsr",
      "include_colab_link": true
    },
    "kernelspec": {
      "name": "python3",
      "display_name": "Python 3"
    },
    "language_info": {
      "name": "python"
    }
  },
  "cells": [
    {
      "cell_type": "markdown",
      "metadata": {
        "id": "view-in-github",
        "colab_type": "text"
      },
      "source": [
        "<a href=\"https://colab.research.google.com/github/Fluffy96/Computer-Vision-using-CNN/blob/main/Cifar10.ipynb\" target=\"_parent\"><img src=\"https://colab.research.google.com/assets/colab-badge.svg\" alt=\"Open In Colab\"/></a>"
      ]
    },
    {
      "cell_type": "code",
      "execution_count": null,
      "metadata": {
        "id": "63VXQ4QpS60g"
      },
      "outputs": [],
      "source": [
        "import tensorflow as tf\n",
        "from tensorflow.keras import datasets, layers, models\n",
        "import matplotlib.pyplot as plt\n",
        "import numpy as np\n"
      ]
    },
    {
      "cell_type": "code",
      "source": [
        "(Xtr,ytr),(Xts,yts) = datasets.cifar10.load_data()\n",
        "print(Xtr.shape)\n",
        "classes = ['airplane','automobile','bird','cat','deer','dog','frog','horse','ship','truck']\n",
        "# y is filled with numbers and the number repsents and index for one of the classifications above"
      ],
      "metadata": {
        "colab": {
          "base_uri": "https://localhost:8080/"
        },
        "id": "DuoIItbgTf0u",
        "outputId": "e5997de1-2689-4ccb-f41e-69aea9000091"
      },
      "execution_count": null,
      "outputs": [
        {
          "output_type": "stream",
          "name": "stdout",
          "text": [
            "Downloading data from https://www.cs.toronto.edu/~kriz/cifar-10-python.tar.gz\n",
            "170498071/170498071 [==============================] - 6s 0us/step\n",
            "(50000, 32, 32, 3)\n"
          ]
        }
      ]
    },
    {
      "cell_type": "markdown",
      "source": [
        "from the shape above we can tell we have 50000 images of size 32px by 32px and we have 3 channels"
      ],
      "metadata": {
        "id": "RKq7f12XTxrx"
      }
    },
    {
      "cell_type": "code",
      "source": [
        "print(ytr.shape)#shows that it is a 2d array do steps below to reshape into 1d\n",
        "ytr = ytr.reshape(-1,)\n",
        "yts = yts.reshape(-1,)\n",
        "print(ytr.shape)"
      ],
      "metadata": {
        "colab": {
          "base_uri": "https://localhost:8080/"
        },
        "id": "q_DPeLZKWA5y",
        "outputId": "d3fe1ac8-d0f5-484f-92c8-e72ab935f4f6"
      },
      "execution_count": null,
      "outputs": [
        {
          "output_type": "stream",
          "name": "stdout",
          "text": [
            "(50000, 1)\n",
            "(50000,)\n"
          ]
        }
      ]
    },
    {
      "cell_type": "code",
      "source": [
        "def plot(X,y,ind):#Simple function to print out the image and its label\n",
        "  plt.figure(figsize=(15,2))\n",
        "  plt.imshow(X[ind])\n",
        "  print('this sample is '+ classes[y[ind]])\n",
        "\n",
        "plot(Xtr,ytr,0)"
      ],
      "metadata": {
        "colab": {
          "base_uri": "https://localhost:8080/",
          "height": 234
        },
        "id": "s5mz9OxjT9ER",
        "outputId": "574acc69-4f04-441e-e13d-09476cb06909"
      },
      "execution_count": null,
      "outputs": [
        {
          "output_type": "stream",
          "name": "stdout",
          "text": [
            "this sample is frog\n"
          ]
        },
        {
          "output_type": "display_data",
          "data": {
            "text/plain": [
              "<Figure size 1500x200 with 1 Axes>"
            ],
            "image/png": "[encoded data removed]"
          },
          "metadata": {}
        }
      ]
    },
    {
      "cell_type": "markdown",
      "source": [
        "Normalizing image data<br>\n",
        "1. Divide by 255.0 ( want number between 1 and 0)"
      ],
      "metadata": {
        "id": "ffVjcscXWsXE"
      }
    },
    {
      "cell_type": "code",
      "source": [
        "Xtr = Xtr/255.0\n",
        "Xts = Xts/255.0"
      ],
      "metadata": {
        "id": "WryfI8mSUMYr"
      },
      "execution_count": null,
      "outputs": []
    },
    {
      "cell_type": "code",
      "source": [
        "cnn = models.Sequential([\n",
        "    #CNN\n",
        "    layers.Conv2D(filters = 32, kernel_size = (3,3), activation = 'relu', input_shape =(32,32,3)),\n",
        "    layers.MaxPooling2D(),\n",
        "    layers.Conv2D(filters = 64, kernel_size = (3,3), activation = 'relu', input_shape =(32,32,3)),\n",
        "    layers.AveragePooling2D(),\n",
        "\n",
        "    layers.Flatten(),\n",
        "    layers.Dense(64,activation = 'relu'),\n",
        "    layers.Dense(10,activation = 'softmax')\n",
        "])\n"
      ],
      "metadata": {
        "id": "eH-AtUOEYGe_"
      },
      "execution_count": null,
      "outputs": []
    },
    {
      "cell_type": "code",
      "source": [
        "cnn.compile(loss = 'sparse_categorical_crossentropy',\n",
        "              optimizer = 'adam',\n",
        "              metrics = ['accuracy'])"
      ],
      "metadata": {
        "id": "Y3sI4gixaEAK"
      },
      "execution_count": null,
      "outputs": []
    },
    {
      "cell_type": "code",
      "source": [
        "cnn.fit(Xtr,ytr,epochs =12)"
      ],
      "metadata": {
        "colab": {
          "base_uri": "https://localhost:8080/"
        },
        "id": "OSR4JwIVab1m",
        "outputId": "f68b6a00-db6a-445a-d442-d38357ff4ad1"
      },
      "execution_count": null,
      "outputs": [
        {
          "output_type": "stream",
          "name": "stdout",
          "text": [
            "Epoch 1/12\n",
            "1563/1563 [==============================] - 68s 43ms/step - loss: 1.5034 - accuracy: 0.4593\n",
            "Epoch 2/12\n",
            "1563/1563 [==============================] - 72s 46ms/step - loss: 1.1722 - accuracy: 0.5881\n",
            "Epoch 3/12\n",
            "1563/1563 [==============================] - 67s 43ms/step - loss: 1.0341 - accuracy: 0.6392\n",
            "Epoch 4/12\n",
            "1563/1563 [==============================] - 67s 43ms/step - loss: 0.9444 - accuracy: 0.6714\n",
            "Epoch 5/12\n",
            "1563/1563 [==============================] - 66s 42ms/step - loss: 0.8797 - accuracy: 0.6967\n",
            "Epoch 6/12\n",
            "1563/1563 [==============================] - 66s 42ms/step - loss: 0.8245 - accuracy: 0.7156\n",
            "Epoch 7/12\n",
            "1563/1563 [==============================] - 66s 42ms/step - loss: 0.7789 - accuracy: 0.7295\n",
            "Epoch 8/12\n",
            "1563/1563 [==============================] - 67s 43ms/step - loss: 0.7354 - accuracy: 0.7446\n",
            "Epoch 9/12\n",
            "1563/1563 [==============================] - 68s 44ms/step - loss: 0.6995 - accuracy: 0.7573\n",
            "Epoch 10/12\n",
            "1563/1563 [==============================] - 66s 42ms/step - loss: 0.6655 - accuracy: 0.7680\n",
            "Epoch 11/12\n",
            "1563/1563 [==============================] - 67s 43ms/step - loss: 0.6319 - accuracy: 0.7795\n",
            "Epoch 12/12\n",
            "1563/1563 [==============================] - 66s 43ms/step - loss: 0.5992 - accuracy: 0.7887\n"
          ]
        },
        {
          "output_type": "execute_result",
          "data": {
            "text/plain": [
              "<keras.callbacks.History at 0x7f3e894b5b70>"
            ]
          },
          "metadata": {},
          "execution_count": 8
        }
      ]
    },
    {
      "cell_type": "code",
      "source": [
        "cnn.evaluate(Xts,yts)"
      ],
      "metadata": {
        "colab": {
          "base_uri": "https://localhost:8080/"
        },
        "id": "rmW6urhzNuA6",
        "outputId": "e5ff9803-8879-42a6-f3e2-f19bbc7f3f09"
      },
      "execution_count": null,
      "outputs": [
        {
          "output_type": "stream",
          "name": "stdout",
          "text": [
            "313/313 [==============================] - 4s 12ms/step - loss: 0.9063 - accuracy: 0.7055\n"
          ]
        },
        {
          "output_type": "execute_result",
          "data": {
            "text/plain": [
              "[0.9063353538513184, 0.7055000066757202]"
            ]
          },
          "metadata": {},
          "execution_count": 9
        }
      ]
    },
    {
      "cell_type": "code",
      "source": [
        "plot(Xts,yts,1)"
      ],
      "metadata": {
        "colab": {
          "base_uri": "https://localhost:8080/",
          "height": 234
        },
        "id": "AxvkUTWcV3ln",
        "outputId": "1f0e9fb8-e8f6-497c-d3fc-b327c1957ecf"
      },
      "execution_count": null,
      "outputs": [
        {
          "output_type": "stream",
          "name": "stdout",
          "text": [
            "this sample is ship\n"
          ]
        },
        {
          "output_type": "display_data",
          "data": {
            "text/plain": [
              "<Figure size 1500x200 with 1 Axes>"
            ],
            "image/png": "[encoded data removed]"
          },
          "metadata": {}
        }
      ]
    },
    {
      "cell_type": "code",
      "source": [
        "pred = cnn.predict(Xts)\n",
        "cl = np.argmax(pred[1]) #returns which of the 12 vectors was the largest repersents the classification\n",
        "print(classes[cl])"
      ],
      "metadata": {
        "colab": {
          "base_uri": "https://localhost:8080/"
        },
        "id": "Oz7bll4CV-wd",
        "outputId": "1f73ee67-8725-4a98-cfb7-c9542e40161b"
      },
      "execution_count": null,
      "outputs": [
        {
          "output_type": "stream",
          "name": "stdout",
          "text": [
            "313/313 [==============================] - 4s 12ms/step\n",
            "ship\n"
          ]
        }
      ]
    }
  ]
}